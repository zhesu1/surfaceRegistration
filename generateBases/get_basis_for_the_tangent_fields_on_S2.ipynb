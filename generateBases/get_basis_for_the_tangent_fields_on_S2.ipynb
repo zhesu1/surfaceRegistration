{
 "cells": [
  {
   "cell_type": "markdown",
   "metadata": {},
   "source": [
    "This script is used to generate **a truncated orthonormal basis** of the tangent fields on $S^2$ with a maximal degree **max_deg** and a resolution **Num_phi $\\times$ Num_theta**. Here **Num_phi** denotes the number of discrete polar angle $\\phi\\in [0,\\pi]$ and **Num_theta** is the number of discrete azimuthal angle $\\theta\\in[0, 2\\pi]$. To use the main code of matching surfaces, **Num_theta** must be odd and the basis mat file should be moved to the folder \"Bases\"."
   ]
  },
  {
   "cell_type": "code",
   "execution_count": 1,
   "metadata": {},
   "outputs": [],
   "source": [
    "from packages.BasisVecFieldsS2 import *\n",
    "\n",
    "Num_phi, Num_theta = 50, 99 # use the same discretization as the surfaces."
   ]
  },
  {
   "cell_type": "markdown",
   "metadata": {},
   "source": [
    "Get an orthonormal basis of vector fields"
   ]
  },
  {
   "cell_type": "code",
   "execution_count": 2,
   "metadata": {},
   "outputs": [],
   "source": [
    "max_deg = 25 # this is fixed to be 25 in the main code\n",
    "B = get_basis_vecFields_S2(max_deg, Num_phi, Num_theta)"
   ]
  },
  {
   "cell_type": "code",
   "execution_count": 3,
   "metadata": {},
   "outputs": [],
   "source": [
    "C = BasisSph_to_BasisCar(B)"
   ]
  },
  {
   "cell_type": "code",
   "execution_count": 4,
   "metadata": {},
   "outputs": [],
   "source": [
    "import scipy.io as sio\n",
    "sio.savemat('BasesResults/basis_vecFieldsS2_deg{0}_{1}_{2}.mat'.format(max_deg, Num_phi, Num_theta),\\\n",
    "            {'Basis':C.numpy()},do_compression=True)"
   ]
  }
 ],
 "metadata": {
  "kernelspec": {
   "display_name": "Python 3",
   "language": "python",
   "name": "python3"
  },
  "language_info": {
   "codemirror_mode": {
    "name": "ipython",
    "version": 3
   },
   "file_extension": ".py",
   "mimetype": "text/x-python",
   "name": "python",
   "nbconvert_exporter": "python",
   "pygments_lexer": "ipython3",
   "version": "3.7.5"
  },
  "toc": {
   "base_numbering": 1,
   "nav_menu": {},
   "number_sections": true,
   "sideBar": true,
   "skip_h1_title": false,
   "title_cell": "Table of Contents",
   "title_sidebar": "Contents",
   "toc_cell": false,
   "toc_position": {},
   "toc_section_display": true,
   "toc_window_display": false
  },
  "varInspector": {
   "cols": {
    "lenName": 16,
    "lenType": 16,
    "lenVar": 40
   },
   "kernels_config": {
    "python": {
     "delete_cmd_postfix": "",
     "delete_cmd_prefix": "del ",
     "library": "var_list.py",
     "varRefreshCmd": "print(var_dic_list())"
    },
    "r": {
     "delete_cmd_postfix": ") ",
     "delete_cmd_prefix": "rm(",
     "library": "var_list.r",
     "varRefreshCmd": "cat(var_dic_list()) "
    }
   },
   "types_to_exclude": [
    "module",
    "function",
    "builtin_function_or_method",
    "instance",
    "_Feature"
   ],
   "window_display": false
  }
 },
 "nbformat": 4,
 "nbformat_minor": 2
}
