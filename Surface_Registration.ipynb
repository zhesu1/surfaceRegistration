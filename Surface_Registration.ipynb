{
 "cells": [
  {
   "cell_type": "markdown",
   "metadata": {},
   "source": [
    "Load two surfaces $f_1$ and $f_2$ of size $3*N_{\\phi}*N_{\\theta}$, where $N_\\phi$ denotes the number of discrete polar angle $\\phi\\in[0,\\pi]$ and $N_\\theta$ denotes the number of discrete azimuthal angle $\\theta\\in[0,2\\pi]$.\n",
    "\n",
    "To use the code, $N_{\\theta}$ must be **odd** and the matrix representation of each surface should satisfy $f[:, 0, :] = f[:, 0, 0]$, $f[:, -1, :] = f[:, -1, 0]$ and $f[:, :, 0] = f[:, :, -1]$, i.e., $f(0, \\theta) = f(0, 0)$, $f(\\pi, \\theta) = f(\\pi, 0)$ and $f(\\phi, 0) = f(\\phi, 2\\pi)$."
   ]
  },
  {
   "cell_type": "code",
   "execution_count": null,
   "metadata": {},
   "outputs": [],
   "source": [
    "import scipy.io as sio\n",
    "from Packages.RegisterSurfaces import *\n",
    "\n",
    "#  \n",
    "mat_f= sio.loadmat('ShapeData/bumpSphere.mat')\n",
    "# mat_f= sio.loadmat('ShapeData/TwoBumpSphere.mat')\n",
    "\n",
    "f1 = torch.from_numpy(mat_f['f1']).double()\n",
    "f2 = torch.from_numpy(mat_f['f2']).double()"
   ]
  },
  {
   "cell_type": "code",
   "execution_count": null,
   "metadata": {},
   "outputs": [],
   "source": [
    "MaxDegVecFS2 = 2  # the maximal degree of spherical harmonics for the tangent vector fields on S2\n",
    "a,b,c = 1, 1, 1  # choices of constants for the general elastic metric\n",
    "\n",
    "# Initialize over the icosahedral group and then over the group of diffeomorphisms of rotations\n",
    "f1_gamma, ESO3, f1_barh, EIco = initialize_over_paraSO3(f1, f2, a, b, c)"
   ]
  },
  {
   "cell_type": "code",
   "execution_count": null,
   "metadata": {},
   "outputs": [],
   "source": [
    "%%time \n",
    "# minimize over the whole group of diffeomorphisms\n",
    "# set the maximum number of iterations for the whole optimization process and the maximal number of iterations\n",
    "# for each optimization \n",
    "\n",
    "numIte = (1,50)  \n",
    "f, D = opt_overDiff(f1_gamma, f2, a, b, c, MaxDegVecFS2, numIte)"
   ]
  },
  {
   "cell_type": "code",
   "execution_count": null,
   "metadata": {},
   "outputs": [],
   "source": [
    "# plot the energy \n",
    "import matplotlib.pyplot as plt\n",
    "%matplotlib inline\n",
    "plt.plot(D)\n",
    "plt.show()"
   ]
  },
  {
   "cell_type": "code",
   "execution_count": null,
   "metadata": {},
   "outputs": [],
   "source": [
    "# plot the registration result\n",
    "\n",
    "idty = get_idty_S2(*f1.shape[-2:])\n",
    "\n",
    "from mayavi import mlab\n",
    "Gx, Gy = np.gradient(idty[2])  \n",
    "Grad = (Gx**2+Gy**2)**.5 \n",
    "w = Grad/Grad.max()  \n",
    "\n",
    "%gui qt\n",
    "\n",
    "mlab.init_notebook('x3d',1000,500) # png & x3d\n",
    "mlab.figure(1, size=(100,70), fgcolor=(1, 1, 1), bgcolor=(0.5, 0.5, 0.5))\n",
    "mlab.clf()\n",
    "\n",
    "s1 = mlab.mesh(f1[0].numpy()-2, f1[1].numpy(), f1[2].numpy(),representation='wireframe',scalars=w)\n",
    "s = mlab.mesh(f[0].numpy(), f[1].numpy(), f[2].numpy(),representation='wireframe',scalars=w)\n",
    "s2 = mlab.mesh(f2[0].numpy()+2, f2[1].numpy(), f2[2].numpy(),representation='wireframe',scalars=w)\n",
    "\n",
    "\n",
    "mlab.view(azimuth=270, elevation=90)\n",
    "mlab.show()\n",
    "s1"
   ]
  }
 ],
 "metadata": {
  "kernelspec": {
   "display_name": "Python 3",
   "language": "python",
   "name": "python3"
  },
  "language_info": {
   "codemirror_mode": {
    "name": "ipython",
    "version": 3
   },
   "file_extension": ".py",
   "mimetype": "text/x-python",
   "name": "python",
   "nbconvert_exporter": "python",
   "pygments_lexer": "ipython3",
   "version": "3.7.4"
  },
  "toc": {
   "base_numbering": 1,
   "nav_menu": {},
   "number_sections": true,
   "sideBar": true,
   "skip_h1_title": false,
   "title_cell": "Table of Contents",
   "title_sidebar": "Contents",
   "toc_cell": false,
   "toc_position": {},
   "toc_section_display": true,
   "toc_window_display": false
  },
  "varInspector": {
   "cols": {
    "lenName": 16,
    "lenType": 16,
    "lenVar": 40
   },
   "kernels_config": {
    "python": {
     "delete_cmd_postfix": "",
     "delete_cmd_prefix": "del ",
     "library": "var_list.py",
     "varRefreshCmd": "print(var_dic_list())"
    },
    "r": {
     "delete_cmd_postfix": ") ",
     "delete_cmd_prefix": "rm(",
     "library": "var_list.r",
     "varRefreshCmd": "cat(var_dic_list()) "
    }
   },
   "position": {
    "height": "415.667px",
    "left": "910px",
    "right": "20px",
    "top": "120px",
    "width": "350px"
   },
   "types_to_exclude": [
    "module",
    "function",
    "builtin_function_or_method",
    "instance",
    "_Feature"
   ],
   "window_display": false
  }
 },
 "nbformat": 4,
 "nbformat_minor": 2
}
